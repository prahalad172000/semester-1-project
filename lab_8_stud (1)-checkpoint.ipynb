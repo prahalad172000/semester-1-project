{
 "cells": [
  {
   "cell_type": "markdown",
   "metadata": {},
   "source": [
    "# Student Name: PRAHALAD V RAO\n",
    "# Enrollment Number: E18CSE130\n",
    "# Lab assignemnt number: 8"
   ]
  },
  {
   "cell_type": "markdown",
   "metadata": {},
   "source": [
    "## Nested Loops"
   ]
  },
  {
   "cell_type": "markdown",
   "metadata": {},
   "source": [
    "### 1 Run the following program to see how many time outer and inner loop run."
   ]
  },
  {
   "cell_type": "code",
   "execution_count": 2,
   "metadata": {},
   "outputs": [
    {
     "name": "stdout",
     "output_type": "stream",
     "text": [
      "4 12\n"
     ]
    }
   ],
   "source": [
    "inner=0\n",
    "outer=0\n",
    "for i in range(1,5):\n",
    "    outer+=1\n",
    "    for j in range(1,4):\n",
    "        inner+=1\n",
    "print(outer,inner)\n"
   ]
  },
  {
   "cell_type": "markdown",
   "metadata": {},
   "source": [
    "### 2 Write a program in Python to print a square pattern using loop.\n",
    "    * * * * *\n",
    "    * * * * *\n",
    "    * * * * *\n",
    "    * * * * *\n",
    "    * * * * *"
   ]
  },
  {
   "cell_type": "code",
   "execution_count": 4,
   "metadata": {
    "scrolled": false
   },
   "outputs": [
    {
     "name": "stdout",
     "output_type": "stream",
     "text": [
      "* * * * * \n",
      "* * * * * \n",
      "* * * * * \n",
      "* * * * * \n",
      "* * * * * \n"
     ]
    }
   ],
   "source": [
    "#Write your code\n",
    "for i in range(1,6):\n",
    "    for j in range(1,6):\n",
    "        print('*',end=' ')\n",
    "    print()\n",
    "    \n",
    "        "
   ]
  },
  {
   "cell_type": "markdown",
   "metadata": {},
   "source": [
    "### 3 Print the following output using a Python program:\n",
    "    5  4  3  2  1\n",
    "    5  4  3  2  1    \n",
    "    5  4  3  2  1\n",
    "    5  4  3  2  1 "
   ]
  },
  {
   "cell_type": "code",
   "execution_count": 9,
   "metadata": {
    "scrolled": false
   },
   "outputs": [
    {
     "name": "stdout",
     "output_type": "stream",
     "text": [
      "5 4 3 2 1 \n",
      "5 4 3 2 1 \n",
      "5 4 3 2 1 \n",
      "5 4 3 2 1 \n"
     ]
    }
   ],
   "source": [
    "#Write your code\n",
    "for i in range(1,5):\n",
    "    for j in range(1,6):\n",
    "        print(5-j+1,end=' ')\n",
    "    print()    "
   ]
  },
  {
   "cell_type": "markdown",
   "metadata": {},
   "source": [
    "### 4 Write a program in Python to print following pattern using loop:\n",
    "    * \n",
    "    * * \n",
    "    * * * \n",
    "    * * * * \n",
    "    * * * * *"
   ]
  },
  {
   "cell_type": "code",
   "execution_count": 10,
   "metadata": {},
   "outputs": [
    {
     "name": "stdout",
     "output_type": "stream",
     "text": [
      "* \n",
      "* * \n",
      "* * * \n",
      "* * * * \n",
      "* * * * * \n"
     ]
    }
   ],
   "source": [
    "#Write your code\n",
    "for i in range(1,6):\n",
    "    for j in range(i):\n",
    "        print('*',end=' ')\n",
    "    print()    "
   ]
  },
  {
   "cell_type": "markdown",
   "metadata": {},
   "source": [
    "### 5 Write a program in Python to print following pattern using loop:\n",
    "    * * * * * \n",
    "      * * * * \n",
    "        * * * \n",
    "          * * \n",
    "            * "
   ]
  },
  {
   "cell_type": "code",
   "execution_count": 12,
   "metadata": {},
   "outputs": [
    {
     "name": "stdout",
     "output_type": "stream",
     "text": [
      "* * * * * \n",
      "  * * * * \n",
      "    * * * \n",
      "      * * \n",
      "        * \n"
     ]
    }
   ],
   "source": [
    "#Write your code\n",
    "for i in range(1,6):\n",
    "    for j in range(i-1):\n",
    "        print(\" \",end=' ')\n",
    "    for j in range(6-i):\n",
    "        print('*',end=' ')\n",
    "    print()    "
   ]
  },
  {
   "cell_type": "markdown",
   "metadata": {},
   "source": [
    "### 6 Write a program in Python to print Floyd triangle for range entered by user.\n",
    "For example: range=4\n",
    "\n",
    "    1 \n",
    "    2 3 \n",
    "    4 5 6     \n",
    "    7 8 9 10"
   ]
  },
  {
   "cell_type": "code",
   "execution_count": 17,
   "metadata": {
    "scrolled": false
   },
   "outputs": [
    {
     "name": "stdout",
     "output_type": "stream",
     "text": [
      "Enter range: 4\n",
      "1 \n",
      "2 3 \n",
      "4 5 6 \n",
      "7 8 9 10 \n"
     ]
    }
   ],
   "source": [
    "#Write your code\n",
    "n=int(input('Enter range: '))\n",
    "x=1\n",
    "for i in range(1,n+1):\n",
    "    for j in range(i):\n",
    "        print(x,end=' ')\n",
    "        x+=1\n",
    "    print()    "
   ]
  },
  {
   "cell_type": "markdown",
   "metadata": {},
   "source": [
    "### 7 Write a program in Python to take 5 numbers from user and print their factors."
   ]
  },
  {
   "cell_type": "code",
   "execution_count": 18,
   "metadata": {
    "scrolled": false
   },
   "outputs": [
    {
     "name": "stdout",
     "output_type": "stream",
     "text": [
      "Enter number: 12\n",
      "Factor of  12 \n",
      "\n",
      "1 2 3 4 6 12  are the factors of  12\n",
      "Enter number: 14\n",
      "Factor of  14 \n",
      "\n",
      "1 2 7 14  are the factors of  14\n",
      "Enter number: 15\n",
      "Factor of  15 \n",
      "\n",
      "1 3 5 15  are the factors of  15\n",
      "Enter number: 18\n",
      "Factor of  18 \n",
      "\n",
      "1 2 3 6 9 18  are the factors of  18\n",
      "Enter number: 11\n",
      "Factor of  11 \n",
      "\n",
      "1 11  are the factors of  11\n"
     ]
    }
   ],
   "source": [
    "#Write your code\n",
    "for i in range(1,6):\n",
    "    n=int(input('Enter number: '))\n",
    "    print('Factor of ',n,'\\n')\n",
    "    for j in range(1,n+1):\n",
    "        if(n%j==0):\n",
    "            print(j,end=' ')\n",
    "    print(' are the factors of ',n)        \n",
    "            "
   ]
  },
  {
   "cell_type": "markdown",
   "metadata": {},
   "source": [
    "### 8 Write a program in Python to print all prime numbers between 1 and 20."
   ]
  },
  {
   "cell_type": "code",
   "execution_count": 19,
   "metadata": {
    "scrolled": true
   },
   "outputs": [
    {
     "name": "stdout",
     "output_type": "stream",
     "text": [
      "2\n",
      "3\n",
      "5\n",
      "7\n",
      "11\n",
      "13\n",
      "17\n",
      "19\n"
     ]
    }
   ],
   "source": [
    "#Write your code\n",
    "for i in range(1,21):\n",
    "    flag=0\n",
    "    for j in range(1,i+1):\n",
    "        if(i%j==0):\n",
    "            flag+=1\n",
    "    if(flag==2):\n",
    "        print(i)\n",
    "    \n",
    "        "
   ]
  },
  {
   "cell_type": "markdown",
   "metadata": {},
   "source": [
    "### 9 Write a program in Python to input multiple number till enter -1 and print the digits of an each integer number in reverse order. The program should also print the count of digits. For example, if n=235, digits are 5,3 and 2. The count is 3."
   ]
  },
  {
   "cell_type": "code",
   "execution_count": 11,
   "metadata": {},
   "outputs": [
    {
     "name": "stdout",
     "output_type": "stream",
     "text": [
      "Enter a number: 235\n",
      "Digit  5\n",
      "Digit  3\n",
      "Digit  2\n",
      "Total number of digits  3\n",
      "Enter a number: 234\n",
      "Digit  4\n",
      "Digit  3\n",
      "Digit  2\n",
      "Total number of digits  3\n",
      "Enter a number: -1\n"
     ]
    }
   ],
   "source": [
    "#Write your code\n",
    "for i in range (1,99999):\n",
    "    count=0\n",
    "    n=int(input('Enter a number: '))\n",
    "    if(n==-1):\n",
    "        break\n",
    "    digit=n\n",
    "    num=n\n",
    "    while(num>0):\n",
    "        digit=num%10\n",
    "        print('Digit ',digit)\n",
    "        num=num//10\n",
    "        count+=1        \n",
    "    print('Total number of digits ',count)\n",
    "    \n",
    "        \n",
    "        \n",
    "    "
   ]
  },
  {
   "cell_type": "markdown",
   "metadata": {},
   "source": [
    "### 10 Print the following output using a Python program:\n",
    "    1  2  3  4  5    \n",
    "    1  2  3  4  5    \n",
    "    1  2  3  4  5    \n",
    "    1  2  3  4  5"
   ]
  },
  {
   "cell_type": "code",
   "execution_count": 1,
   "metadata": {
    "scrolled": false
   },
   "outputs": [
    {
     "name": "stdout",
     "output_type": "stream",
     "text": [
      "1 2 3 4 5 \n",
      "1 2 3 4 5 \n",
      "1 2 3 4 5 \n",
      "1 2 3 4 5 \n"
     ]
    }
   ],
   "source": [
    "#Write your code\n",
    "for i in range(1,5):\n",
    "    for j in range(1,6):\n",
    "        print(j,end=' ')\n",
    "    print()    "
   ]
  },
  {
   "cell_type": "markdown",
   "metadata": {},
   "source": [
    "## Optional Questions"
   ]
  },
  {
   "cell_type": "markdown",
   "metadata": {},
   "source": [
    "### 11 Write a program in Python to print tilted line of length entered by user:\n",
    "For len=3. Output should look like:\n",
    "\n",
    "    \\\n",
    "     \\\n",
    "      \\"
   ]
  },
  {
   "cell_type": "code",
   "execution_count": 15,
   "metadata": {
    "scrolled": true
   },
   "outputs": [
    {
     "name": "stdout",
     "output_type": "stream",
     "text": [
      "Enter the length: 4\n",
      "\\       \n",
      "  \\     \n",
      "    \\   \n",
      "      \\ \n"
     ]
    }
   ],
   "source": [
    "#Write your code\n",
    "l=int(input('Enter the length: '))\n",
    "for i in range(1,l+1):\n",
    "    for j in range(1,l+1):\n",
    "        if(i==j):\n",
    "            print(\"\\\\\",end=' ')\n",
    "        else:\n",
    "            print(' ',end=' ')\n",
    "    print()"
   ]
  },
  {
   "cell_type": "markdown",
   "metadata": {},
   "source": [
    "### 12 Write a program in Python to print following pattern using loop.\n",
    "\n",
    "             *\n",
    "           * *\n",
    "         * * *\n",
    "       * * * *\n",
    "     * * * * *"
   ]
  },
  {
   "cell_type": "code",
   "execution_count": 2,
   "metadata": {},
   "outputs": [
    {
     "name": "stdout",
     "output_type": "stream",
     "text": [
      "        * \n",
      "      * * \n",
      "    * * * \n",
      "  * * * * \n",
      "* * * * * \n"
     ]
    }
   ],
   "source": [
    "#Write your code\n",
    "for i in range(1,6):\n",
    "    for j in range(6-i-1):\n",
    "        print(\" \",end=' ')\n",
    "    for j in range(i):\n",
    "        print('*',end=' ')\n",
    "    print()\n",
    "    "
   ]
  },
  {
   "cell_type": "markdown",
   "metadata": {},
   "source": [
    "### 13 Write a program in Python to print following pattern using loop:\n",
    "    * * * * *\n",
    "    * * * *\n",
    "    * * *    \n",
    "    * *\n",
    "    * "
   ]
  },
  {
   "cell_type": "code",
   "execution_count": 3,
   "metadata": {
    "scrolled": false
   },
   "outputs": [
    {
     "name": "stdout",
     "output_type": "stream",
     "text": [
      "* * * * * \n",
      "* * * * \n",
      "* * * \n",
      "* * \n",
      "* \n"
     ]
    }
   ],
   "source": [
    "#Write your code\n",
    "for i in range(1,6):    \n",
    "    for j in range(6-i):\n",
    "        print('*',end=' ')\n",
    "    print()    "
   ]
  },
  {
   "cell_type": "markdown",
   "metadata": {},
   "source": [
    "### 14 Write a program in Python to draw a pencil using loop.\n",
    "       * \n",
    "      * * \n",
    "     * * * \n",
    "    | | | |\n",
    "    | | | |\n",
    "    | | | |\n",
    "    | | | |\n",
    "    | | | |\n",
    "    | | | |"
   ]
  },
  {
   "cell_type": "code",
   "execution_count": 16,
   "metadata": {
    "scrolled": true
   },
   "outputs": [
    {
     "name": "stdout",
     "output_type": "stream",
     "text": [
      "   \n",
      "   *\n",
      "  * *\n",
      " * * *\n",
      "| | | | \n",
      "| | | | \n",
      "| | | | \n",
      "| | | | \n",
      "| | | | \n",
      "| | | | \n"
     ]
    }
   ],
   "source": [
    "#Write your code\n",
    "for i in range(4):\n",
    "    print(' '*(3-i)+\" *\"*i)\n",
    "for i in range(1,7):\n",
    "    for j in range(1,5):\n",
    "        print('|',end=' ')\n",
    "    print()    \n"
   ]
  },
  {
   "cell_type": "markdown",
   "metadata": {},
   "source": [
    "### 15 Write a program in Python to print XYZ pattern using loop."
   ]
  },
  {
   "cell_type": "code",
   "execution_count": 29,
   "metadata": {},
   "outputs": [
    {
     "name": "stdout",
     "output_type": "stream",
     "text": [
      "Enter n: 7\n",
      "Pattern X\n",
      "\n",
      "*           * \n",
      "  *       *   \n",
      "    *   *     \n",
      "      *       \n",
      "    *   *     \n",
      "  *       *   \n",
      "*           * \n",
      "              \n",
      "Enter n: 7\n",
      "Pattern Z\n",
      "\n",
      "* * * * * * * *             *   \n",
      "          *     \n",
      "        *       \n",
      "      *         \n",
      "    *           \n",
      "  *             \n",
      "*               \n",
      "                \n",
      "* * * * * * "
     ]
    }
   ],
   "source": [
    "#Write your code\n",
    "n=int(input('Enter n: '))\n",
    "print('Pattern X\\n')\n",
    "for i in range(n+1):\n",
    "    for j in range(n):\n",
    "        if(i==j):\n",
    "            print('*',end=' ')\n",
    "        elif(i+j==(n-1)):\n",
    "            print('*',end=' ')\n",
    "        else:\n",
    "            print(' ',end=' ')\n",
    "    print()\n",
    "n=int(input('Enter n: '))\n",
    "print('Pattern Z\\n')\n",
    "for i in range(1,n+2):\n",
    "    print('*',end=' ')\n",
    "for i in range(n+1):\n",
    "    for j in range(n+1):\n",
    "        if(i+j==(n-1)):\n",
    "            print('*',end=' ')\n",
    "        else:\n",
    "            print(\" \",end=' ')\n",
    "    print()\n",
    "for i in range(1,n):\n",
    "    print(\"*\",end=\" \")\n",
    "    \n"
   ]
  },
  {
   "cell_type": "code",
   "execution_count": null,
   "metadata": {},
   "outputs": [],
   "source": []
  }
 ],
 "metadata": {
  "kernelspec": {
   "display_name": "Python 3",
   "language": "python",
   "name": "python3"
  },
  "language_info": {
   "codemirror_mode": {
    "name": "ipython",
    "version": 3
   },
   "file_extension": ".py",
   "mimetype": "text/x-python",
   "name": "python",
   "nbconvert_exporter": "python",
   "pygments_lexer": "ipython3",
   "version": "3.6.5"
  }
 },
 "nbformat": 4,
 "nbformat_minor": 2
}
